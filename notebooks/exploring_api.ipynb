{
 "cells": [
  {
   "cell_type": "code",
   "execution_count": 1,
   "id": "79f83d0e-0048-4301-a1a3-389b0a0476d0",
   "metadata": {},
   "outputs": [],
   "source": [
    "import os\n",
    "import configparser\n",
    "from datetime import timedelta\n",
    "\n",
    "from tinkoff.invest import CandleInterval, Client\n",
    "from tinkoff.invest.utils import now\n",
    "\n",
    "\n",
    "curr_dir = os.getcwd()\n",
    "main_folder = '\\\\'.join(curr_dir.split('\\\\')[:-1])\n",
    "\n",
    "config = configparser.ConfigParser()\n",
    "config.read(f'{main_folder}\\config.ini')\n",
    "TOKEN = config['API']['token']"
   ]
  },
  {
   "cell_type": "code",
   "execution_count": 2,
   "id": "570763f8-c928-4ffd-bb2b-653a88bce9d2",
   "metadata": {},
   "outputs": [
    {
     "name": "stdout",
     "output_type": "stream",
     "text": [
      "HistoricCandle(open=Quotation(units=318, nano=270000000), high=Quotation(units=320, nano=150000000), low=Quotation(units=314, nano=310000000), close=Quotation(units=315, nano=860000000), volume=1107947, time=datetime.datetime(2021, 5, 10, 7, 0, tzinfo=datetime.timezone.utc), is_complete=True)\n",
      "318.27\n"
     ]
    }
   ],
   "source": [
    "# Посмотрим на объект свечи\n",
    "with Client(TOKEN) as client:\n",
    "        for candle in client.get_all_candles(  # это генератор, список свечей создать не получится\n",
    "            figi=\"BBG004730N88\",\n",
    "            from_=now() - timedelta(days=365),\n",
    "            interval=CandleInterval.CANDLE_INTERVAL_HOUR,\n",
    "        ):\n",
    "            example = candle.open.units + candle.open.nano * 1e-9\n",
    "            print(candle)\n",
    "            print(example)\n",
    "            break\n",
    "            "
   ]
  },
  {
   "cell_type": "markdown",
   "id": "eadd9f89-86f6-40d7-bc88-e0dd3e22f496",
   "metadata": {},
   "source": [
    "- units -  целая часть суммы\n",
    "- nano - дробная часть"
   ]
  },
  {
   "cell_type": "code",
   "execution_count": 3,
   "id": "8a5b0090-e5aa-4e38-9e38-17771aaeb842",
   "metadata": {},
   "outputs": [
    {
     "name": "stdout",
     "output_type": "stream",
     "text": [
      "1)\tBBG00Y3XYV94\tMDMG\tМать и дитя\n",
      "2)\tBBG00ZHCX1X2\tFIXP\tFix Price Group\n",
      "3)\tBBG004730JJ5\tMOEX\tМосковская Биржа\n",
      "4)\tBBG000VKG4R5\tMRKU\tМРСК Урала\n",
      "5)\tBBG000TJ6F42\tMRKZ\tРоссети Северо-Запад\n",
      "6)\tBBG000Q7GG57\tTGKB\tТГК-2\n",
      "7)\tBBG0029SFXB3\tKZOS\tПАО «КАЗАНЬОРГСИНТЕЗ»\n",
      "8)\tBBG000CSZKR2\tMBT\tАДР МТС\n",
      "9)\tBBG005DXJS36\tTCS\tTCS Group (Tinkoff Bank holder)\n",
      "10)\tBBG006L8G4H1\tYNDX\tYandex\n",
      "11)\tBBG004730ZJ9\tVTBR\tБанк ВТБ\n",
      "12)\tBBG000RMWQD4\tENPG\tEn+ Group\n",
      "13)\tBBG000RP8V70\tCHMK\tЧМК\n",
      "14)\tBBG00475JZZ6\tFEES\tФСК ЕЭС\n",
      "15)\tBBG000K3STR7\tAPTK\tАптечная сеть 36,6\n",
      "16)\tBBG0014PFYM2\tRUGR\tРусгрэйн\n",
      "17)\tBBG00KHGQ0H4\tHHR\tHeadHunter Group PLC\n",
      "18)\tBBG0100R9963\tSGZH\tСегежа\n",
      "19)\tBBG000PKWCQ7\tMRKV\tМРСК Волги\n",
      "20)\tBBG004S68B31\tALRS\tАЛРОСА\n",
      "21)\tBBG002458LF8\tSELG\tСелигдар\n",
      "22)\tBBG000NN8497\tLKOD@GS\tLUKOIL PJSC\n",
      "23)\tBBG000DBD6F6\tKLSB\tКалужская сбытовая компания\n",
      "24)\tBBG0019K04R5\tLIFE\tФармсинтез\n",
      "25)\tBBG000R04X57\tFLOT\tСовкомфлот\n",
      "26)\tBBG00B8NN386\tGRNT\tГородские Инновационные Технологии\n",
      "27)\tBBG000F6YP24\tENRU\tЭнел Россия\n",
      "28)\tBBG00HY6V6H5\tGTRK\tГТМ\n",
      "29)\tBBG003LYCMB1\tSFIN\tЭсЭфАй\n",
      "30)\tBBG004RVFCY3\tMGNT\tМагнит\n",
      "31)\tBBG00F6NKQX3\tSMLT\tГК Самолет\n",
      "32)\tBBG000KGYRF8\tOGZD@GS\tGazprom PJSC\n",
      "33)\tBBG00R4Z2NT4\tVEON-RX\tVEON\n",
      "34)\tBBG000SK7JS5\tLNZL\tЛензолото\n",
      "35)\tBBG000VG1034\tMRKP\tРоссети Центр и Приволжье\n",
      "36)\tBBG002B9T6Y1\tKAZTP\tКуйбышевАзот - Акции привилегированные\n",
      "37)\tBBG004731032\tLKOH\tЛУКОЙЛ\n",
      "38)\tBBG000R607Y3\tPLZL\tПолюс Золото\n",
      "39)\tBBG000QJW156\tBSPB\tБанк Санкт-Петербург\n",
      "40)\tBBG002YFXL29\tUNKL\tЮУНК\n",
      "41)\tBBG001BBSZV8\tMSST\tМультисистема\n",
      "42)\tBBG00QPYJ5H0\tTCSG\tTCS Group\n",
      "43)\tBBG000PZ0833\tMGTSP\tМГТС - акции привилегированные\n",
      "44)\tBBG004730N88\tSBER\tСбер Банк\n",
      "45)\tBBG004S689R0\tPHOR\tФосАгро\n",
      "46)\tBBG003BNWBP3\tPRFN\tЧЗПСН\n",
      "47)\tBBG004S68JR8\tSVAV\tСОЛЛЕРС\n",
      "48)\tBBG000Q7ZZY2\tUNAC\tОбъединенная авиастроительная корпорация\n",
      "49)\tBBG000NL6ZD9\tIRGZ\tИркутскэнерго\n",
      "50)\tBBG000R466J1\tRUSP\tРусполимет\n",
      "51)\tBBG000G7B4C2\tSSA@GS\tSistema PJSFC\n",
      "52)\tBBG000RJWGC4\tAMEZ\tАшинский метзавод\n",
      "53)\tBBG000BN56Q9\tDSKY\tДетский Мир\n",
      "54)\tBBG000C7P5M7\tMRKY\tМРСК Юга\n",
      "55)\tBBG008HD3V85\tUWGN\tОВК\n",
      "56)\tBBG011MCM288\tGEMC\tUnited medical group\n",
      "57)\tBBG000TY1CD1\tBELU\tБелуга Групп ПАО ао\n",
      "58)\tBBG00BGKYH17\tNKHP\tНКХП\n",
      "59)\tBBG0027F0Y27\tCNTLP\tЦентральный Телеграф - акции привилегированные\n",
      "60)\tBBG000VFX6Y4\tGLTR\tGlobaltrans Investment PLC\n",
      "61)\tBBG00JXPFBN0\tFIVE\tГДР X5 RetailGroup\n",
      "62)\tBBG004S68758\tBANE\tБашнефть\n",
      "63)\tBBG00172J7S9\tOKEY\tO'Key Group SA\n",
      "64)\tBBG00H2CS6K7\tPLZL@GS\tPolyus PJSC\n",
      "65)\tBBG000QY6FL3\tNVTK@GS\tNovatek PJSC\n",
      "66)\tBBG004TC84Z8\tTRMK\tТрубная Металлургическая Компания\n",
      "67)\tTCS00A103X66\tPOSI\tPositive Technologies\n",
      "68)\tBBG004S686N0\tBANEP\tБашнефть - привилегированные акции\n",
      "69)\tBBG008F2T3T2\tRUAL\tРУСАЛ\n",
      "70)\tBBG000RJL816\tTTLK\tТаттелеком\n",
      "71)\tBBG004731489\tGMKN\tНорильский никель\n",
      "72)\tBBG004S687G6\tMSRS\tМОЭСК\n",
      "73)\tBBG005D1WCQ1\tQIWI\tQIWI\n",
      "74)\tBBG000FWGSZ5\tIRKT\tКорпорация ИРКУТ\n",
      "75)\tBBG000N16BP3\tISKJ\tИСКЧ\n",
      "76)\tBBG00Y91R9T3\tOZON\tOzon Holdings PLC\n",
      "77)\tBBG004S686W0\tUPRO\tЮнипро\n",
      "78)\tBBG004S68FR6\tMTLRP\tМечел - Привилегированные акции\n",
      "79)\tBBG0029SG1C1\tKZOSP\tПАО «КАЗАНЬОРГСИНТЕЗ» - акции привилегированные\n",
      "80)\tBBG000NLC9Z6\tLSNG\tЛенэнерго\n",
      "81)\tBBG00475K2X9\tHYDR\tРусГидро\n",
      "82)\tBBG004S685M3\tRTKMP\tРостелеком - Привилегированные акции\n",
      "83)\tBBG004S68614\tAFKS\tАФК Система\n",
      "84)\tBBG000BX7DH0\tVRSB\tТНС энерго Воронеж\n",
      "85)\tBBG004731354\tROSN\tРоснефть\n",
      "86)\tBBG000GQSRR5\tNKNC\tНижнекамскнефтехим\n",
      "87)\tBBG000QCW561\tVEON\tVEON\n",
      "88)\tBBG004730RP0\tGAZP\tГазпром\n",
      "89)\tBBG002B2J5X0\tKRKNP\tСаратовский НПЗ - акции привилегированные\n",
      "90)\tBBG004S68696\tRASP\tРаспадская\n",
      "91)\tBBG000Q3XWC4\tSVST@GS\tSeverstal PJSC\n",
      "92)\tBBG00475K6C3\tCHMF\tСеверсталь\n",
      "93)\tBBG001M2SC01\tETLN\tГДР Etalon Group PLC\n",
      "94)\tBBG0136BTL03\tSFTL\tГДР Softline\n",
      "95)\tBBG000KTF667\tRSTIP\tРоссийские сети - акции привилегированные\n",
      "96)\tBBG0047315Y7\tSBERP\tСбер Банк - привилегированные акции\n",
      "97)\tBBG00VPKLPX4\tPOGR\tPetropavlovsk PLC\n",
      "98)\tBBG000Q49F45\tCHEP\tЧТПЗ\n",
      "99)\tBBG0063FKTD9\tLENT\tЛента\n",
      "100)\tBBG000RTHVK7\tGCHE\tГруппа Черкизово\n",
      "101)\tBBG000W325F7\tAQUA\tРусская аквакультура\n",
      "102)\tBBG000VQWH86\tBLNG\tБелон\n",
      "103)\tBBG004S687W8\tMSNG\tМосэнерго\n",
      "104)\tBBG004S68829\tTATNP\tТатнефть - привилегированные акции\n",
      "105)\tBBG0047315D0\tSNGS\tСургутнефтегаз\n",
      "106)\tBBG000QFH687\tTGKA\tТГК-1\n",
      "107)\tBBG00178PGX3\tVKCO\tVK\n",
      "108)\tBBG00F9XX7H4\tRNFT\tРуссНефть\n",
      "109)\tBBG004S688G4\tAKRN\tАкрон\n",
      "110)\tBBG007N0Z367\tAGRO\tРусАгро\n",
      "111)\tBBG000LNHHJ9\tKMAZ\tКАМАЗ\n",
      "112)\tBBG000PR0PJ6\tNLMK@GS\tNovolipetsk Steel PJSC\n",
      "113)\tBBG012YQ6P43\tCIAN\tАДР Циан\n",
      "114)\tBBG000RK52V1\tOGKB\tВторая генерирующая компания оптового рынка электроэнергии\n",
      "115)\tBBG004S682J4\tRSTI\tРоссийские сети\n",
      "116)\tBBG004RVFFC0\tTATN\tТатнефть\n",
      "117)\tBBG000VFBQG4\tMGNT@GS\tMagnit PJSC\n",
      "118)\tBBG000MZL2S9\tPMSBP\tПермэнергосбыт - акции привилегированные\n",
      "119)\tBBG004S682Z6\tRTKM\tРостелеком\n",
      "120)\tBBG004S68CV8\tVSMO\tВСМПО-АВИСМА\n",
      "121)\tBBG004S68CP5\tMVID\tМ.видео\n",
      "122)\tBBG004Z2RGW8\tROLO\tРусолово\n",
      "123)\tBBG004S68BH6\tPIKK\tПИК\n",
      "124)\tBBG004S681B4\tNLMK\tНЛМК\n",
      "125)\tBBG000RG4ZQ4\tTGKN\tТГК-14\n",
      "126)\tBBG00475KHX6\tTRNFP\tТранснефть - привилегированные акции\n",
      "127)\tBBG004S681W1\tMTSS\tМТС\n",
      "128)\tBBG000NLB2G3\tKROT\tКрасный Октябрь\n",
      "129)\tBBG004S68C39\tLSRG\tГруппа ЛСР\n",
      "130)\tBBG002B298N6\tYAKG\tЯТЭК\n",
      "131)\tBBG000N625H8\tFRHC\tFreedom Holding Corp/NV\n",
      "132)\tBBG004S681M2\tSNGSP\tСургутнефтегаз - привилегированные акции\n",
      "133)\tBBG004S68BR5\tNMTP\tНМТП\n",
      "134)\tBBG004S68507\tMAGN\tМагнитогорский металлургический комбинат\n",
      "135)\tBBG000NLCCM3\tLSNGP\tЛенэнерго - акции привилегированные\n",
      "136)\tBBG000SR0YS4\tLNZLP\tЛензолото - привилегированные акции\n",
      "137)\tBBG002GHV6L9\tSPBE\tСПБ Биржа\n",
      "138)\tBBG004S684M6\tSIBN\tГазпром нефть\n",
      "139)\tBBG000GQSVC2\tNKNCP\tНижнекамскнефтехим - акции привилегированные\n",
      "140)\tBBG000V07CB8\tDVEC\tДЭК\n",
      "141)\tBBG002BCQK67\tNSVZ\tНаука-Связь\n",
      "142)\tBBG00QKJSX05\tRENI\tРенессанс Страхование\n",
      "143)\tBBG000Q7GJ60\tTGKBP\tТГК-2 - акции привилегированные\n",
      "144)\tBBG001R16GZ5\tPHOR@GS\tPhosAgro PJSC\n",
      "145)\tBBG00475KKY8\tNVTK\tНОВАТЭК\n",
      "146)\tBBG000F6H7K3\tTGKD\tКвадра\n",
      "147)\tBBG004S68598\tMTLR\tМечел\n",
      "148)\tBBG000LWNRP3\tRKKE\tРКК Энергия им.С.П.Королева\n",
      "149)\tBBG000VJMH65\tMRKS\tМРСК Сибири\n",
      "150)\tBBG001BBGNS2\tORUP\tОбувь России\n",
      "151)\tBBG000MZL0Y6\tPMSB\tПермэнергосбыт\n",
      "152)\tBBG000QF1Q17\tFESH\tДВМП\n",
      "153)\tBBG004PYF2N3\tPOLY\tPolymetal\n",
      "154)\tBBG009GSYN76\tCBOM\tМКБ\n",
      "155)\tBBG001VBZR00\tSBER@GS\tSberbank of Russia PJSC\n",
      "156)\tBBG004S68DD6\tMSTT\tМостотрест\n",
      "157)\tBBG000LWVHN8\tDASB\tДагестанская энергосбытовая компания\n",
      "158)\tBBG000VH7TZ8\tMRKC\tРоссети Центр\n",
      "159)\tBBG004S68473\tIRAO\tИнтер РАО ЕЭС\n",
      "160)\tBBG000BBV4M5\tCNTL\tЦентральный Телеграф\n",
      "161)\tBBG002B9MYC1\tKAZT\tКуйбышевАзот\n",
      "162)\tBBG004S683W7\tAFLT\tАэрофлот\n",
      "163)\tBBG002W2FT69\tABRD\tАбрауДюрсо\n"
     ]
    }
   ],
   "source": [
    "# Получим все тикеты, выведем только российские\n",
    "with Client(TOKEN) as client:\n",
    "    i = 0\n",
    "    for share in client.instruments.shares().instruments:\n",
    "        if share.country_of_risk == 'RU':\n",
    "            i += 1\n",
    "            print(f'{i})\\t{share.figi}\\t{share.ticker}\\t{share.name}')"
   ]
  },
  {
   "cell_type": "code",
   "execution_count": 4,
   "id": "38200f4d-60d7-4369-ab0a-468ac13bfb74",
   "metadata": {},
   "outputs": [
    {
     "data": {
      "text/plain": [
       "GetOrderBookResponse(figi='BBG006L8G4H1', depth=50, bids=[], asks=[], last_price=Quotation(units=1688, nano=0), close_price=Quotation(units=1688, nano=0), limit_up=Quotation(units=0, nano=0), limit_down=Quotation(units=0, nano=0))"
      ]
     },
     "execution_count": 4,
     "metadata": {},
     "output_type": "execute_result"
    }
   ],
   "source": [
    "# Получить стакан заявок на текущий момент\n",
    "with Client(TOKEN) as client:\n",
    "    order_book = client.market_data.get_order_book(depth=50, figi='BBG006L8G4H1')\n",
    "order_book"
   ]
  },
  {
   "cell_type": "code",
   "execution_count": 5,
   "id": "b0d830bf-9474-4373-8785-abd001bdc717",
   "metadata": {},
   "outputs": [],
   "source": [
    "from tinkoff.invest import InstrumentIdType"
   ]
  },
  {
   "cell_type": "code",
   "execution_count": 6,
   "id": "f7879107-1a5f-49ba-82d4-3a746567549b",
   "metadata": {},
   "outputs": [
    {
     "name": "stdout",
     "output_type": "stream",
     "text": [
      "Instrument(figi='BBG006L8G4H1', ticker='YNDX', class_code='TQBR', isin='NL0009805522', lot=1, currency='rub', klong=Quotation(units=2, nano=0), kshort=Quotation(units=2, nano=0), dlong=Quotation(units=0, nano=487500000), dshort=Quotation(units=0, nano=528400000), dlong_min=Quotation(units=0, nano=284100000), dshort_min=Quotation(units=0, nano=236300000), short_enabled_flag=False, name='Yandex', exchange='MOEX', country_of_risk='RU', country_of_risk_name='Российская Федерация', instrument_type='share', trading_status=<SecurityTradingStatus.SECURITY_TRADING_STATUS_BREAK_IN_TRADING: 4>, otc_flag=False, buy_available_flag=True, sell_available_flag=True, min_price_increment=Quotation(units=0, nano=200000000), api_trade_available_flag=True, uid='', real_exchange=<RealExchange.REAL_EXCHANGE_MOEX: 1>) \n",
      "\n",
      "Share(figi='BBG006L8G4H1', ticker='YNDX', class_code='TQBR', isin='NL0009805522', lot=1, currency='rub', klong=Quotation(units=2, nano=0), kshort=Quotation(units=2, nano=0), dlong=Quotation(units=0, nano=487500000), dshort=Quotation(units=0, nano=528400000), dlong_min=Quotation(units=0, nano=284100000), dshort_min=Quotation(units=0, nano=236300000), short_enabled_flag=False, name='Yandex', exchange='MOEX', ipo_date=datetime.datetime(2011, 5, 24, 0, 0, tzinfo=datetime.timezone.utc), issue_size=323800479, country_of_risk='RU', country_of_risk_name='Российская Федерация', sector='telecom', issue_size_plan=0, nominal=MoneyValue(currency='eur', units=0, nano=10000000), trading_status=<SecurityTradingStatus.SECURITY_TRADING_STATUS_BREAK_IN_TRADING: 4>, otc_flag=False, buy_available_flag=True, sell_available_flag=True, div_yield_flag=False, share_type=<ShareType.SHARE_TYPE_COMMON: 1>, min_price_increment=Quotation(units=0, nano=200000000), api_trade_available_flag=True, uid='', real_exchange=<RealExchange.REAL_EXCHANGE_MOEX: 1>)\n"
     ]
    }
   ],
   "source": [
    "# Получить информацию об инстументе/акции по FIGI\n",
    "with Client(TOKEN) as client:\n",
    "    instrument_info = client.instruments.get_instrument_by(\n",
    "        id_type=InstrumentIdType.INSTRUMENT_ID_TYPE_FIGI,\n",
    "        id='BBG006L8G4H1')\n",
    "    share_info = client.instruments.share_by(\n",
    "        id_type=InstrumentIdType.INSTRUMENT_ID_TYPE_FIGI,\n",
    "        id='BBG006L8G4H1')\n",
    "\n",
    "print(instrument_info.instrument, '\\n')    \n",
    "print(share_info.instrument)"
   ]
  },
  {
   "cell_type": "code",
   "execution_count": 7,
   "id": "991faaff-9e7d-4cd1-a748-c8233407ab6d",
   "metadata": {},
   "outputs": [
    {
     "data": {
      "text/plain": [
       "[TradingSchedule(exchange='MOEX', days=[TradingDay(date=datetime.datetime(2022, 5, 9, 0, 0, tzinfo=datetime.timezone.utc), is_trading_day=False, start_time=datetime.datetime(1970, 1, 1, 0, 0, tzinfo=datetime.timezone.utc), end_time=datetime.datetime(1970, 1, 1, 0, 0, tzinfo=datetime.timezone.utc), opening_auction_start_time=datetime.datetime(1970, 1, 1, 0, 0, tzinfo=datetime.timezone.utc), closing_auction_end_time=datetime.datetime(1970, 1, 1, 0, 0, tzinfo=datetime.timezone.utc), evening_opening_auction_start_time=datetime.datetime(1970, 1, 1, 0, 0, tzinfo=datetime.timezone.utc), evening_start_time=datetime.datetime(1970, 1, 1, 0, 0, tzinfo=datetime.timezone.utc), evening_end_time=datetime.datetime(1970, 1, 1, 0, 0, tzinfo=datetime.timezone.utc), clearing_start_time=datetime.datetime(1970, 1, 1, 0, 0, tzinfo=datetime.timezone.utc), clearing_end_time=datetime.datetime(1970, 1, 1, 0, 0, tzinfo=datetime.timezone.utc), premarket_start_time=datetime.datetime(1970, 1, 1, 0, 0, tzinfo=datetime.timezone.utc), premarket_end_time=datetime.datetime(1970, 1, 1, 0, 0, tzinfo=datetime.timezone.utc)), TradingDay(date=datetime.datetime(2022, 5, 10, 0, 0, tzinfo=datetime.timezone.utc), is_trading_day=False, start_time=datetime.datetime(1970, 1, 1, 0, 0, tzinfo=datetime.timezone.utc), end_time=datetime.datetime(1970, 1, 1, 0, 0, tzinfo=datetime.timezone.utc), opening_auction_start_time=datetime.datetime(1970, 1, 1, 0, 0, tzinfo=datetime.timezone.utc), closing_auction_end_time=datetime.datetime(1970, 1, 1, 0, 0, tzinfo=datetime.timezone.utc), evening_opening_auction_start_time=datetime.datetime(1970, 1, 1, 0, 0, tzinfo=datetime.timezone.utc), evening_start_time=datetime.datetime(1970, 1, 1, 0, 0, tzinfo=datetime.timezone.utc), evening_end_time=datetime.datetime(1970, 1, 1, 0, 0, tzinfo=datetime.timezone.utc), clearing_start_time=datetime.datetime(1970, 1, 1, 0, 0, tzinfo=datetime.timezone.utc), clearing_end_time=datetime.datetime(1970, 1, 1, 0, 0, tzinfo=datetime.timezone.utc), premarket_start_time=datetime.datetime(1970, 1, 1, 0, 0, tzinfo=datetime.timezone.utc), premarket_end_time=datetime.datetime(1970, 1, 1, 0, 0, tzinfo=datetime.timezone.utc)), TradingDay(date=datetime.datetime(2022, 5, 11, 0, 0, tzinfo=datetime.timezone.utc), is_trading_day=True, start_time=datetime.datetime(2022, 5, 11, 7, 0, tzinfo=datetime.timezone.utc), end_time=datetime.datetime(2022, 5, 11, 15, 40, tzinfo=datetime.timezone.utc), opening_auction_start_time=datetime.datetime(2022, 5, 11, 6, 50, tzinfo=datetime.timezone.utc), closing_auction_end_time=datetime.datetime(2022, 5, 11, 15, 50, tzinfo=datetime.timezone.utc), evening_opening_auction_start_time=datetime.datetime(1970, 1, 1, 0, 0, tzinfo=datetime.timezone.utc), evening_start_time=datetime.datetime(1970, 1, 1, 0, 0, tzinfo=datetime.timezone.utc), evening_end_time=datetime.datetime(1970, 1, 1, 0, 0, tzinfo=datetime.timezone.utc), clearing_start_time=datetime.datetime(1970, 1, 1, 0, 0, tzinfo=datetime.timezone.utc), clearing_end_time=datetime.datetime(1970, 1, 1, 0, 0, tzinfo=datetime.timezone.utc), premarket_start_time=datetime.datetime(2022, 5, 11, 6, 50, tzinfo=datetime.timezone.utc), premarket_end_time=datetime.datetime(2022, 5, 11, 7, 0, tzinfo=datetime.timezone.utc)), TradingDay(date=datetime.datetime(2022, 5, 12, 0, 0, tzinfo=datetime.timezone.utc), is_trading_day=True, start_time=datetime.datetime(2022, 5, 12, 7, 0, tzinfo=datetime.timezone.utc), end_time=datetime.datetime(2022, 5, 12, 15, 40, tzinfo=datetime.timezone.utc), opening_auction_start_time=datetime.datetime(2022, 5, 12, 6, 50, tzinfo=datetime.timezone.utc), closing_auction_end_time=datetime.datetime(2022, 5, 12, 15, 50, tzinfo=datetime.timezone.utc), evening_opening_auction_start_time=datetime.datetime(1970, 1, 1, 0, 0, tzinfo=datetime.timezone.utc), evening_start_time=datetime.datetime(1970, 1, 1, 0, 0, tzinfo=datetime.timezone.utc), evening_end_time=datetime.datetime(1970, 1, 1, 0, 0, tzinfo=datetime.timezone.utc), clearing_start_time=datetime.datetime(1970, 1, 1, 0, 0, tzinfo=datetime.timezone.utc), clearing_end_time=datetime.datetime(1970, 1, 1, 0, 0, tzinfo=datetime.timezone.utc), premarket_start_time=datetime.datetime(2022, 5, 12, 6, 50, tzinfo=datetime.timezone.utc), premarket_end_time=datetime.datetime(2022, 5, 12, 7, 0, tzinfo=datetime.timezone.utc)), TradingDay(date=datetime.datetime(2022, 5, 13, 0, 0, tzinfo=datetime.timezone.utc), is_trading_day=True, start_time=datetime.datetime(2022, 5, 13, 7, 0, tzinfo=datetime.timezone.utc), end_time=datetime.datetime(2022, 5, 13, 15, 40, tzinfo=datetime.timezone.utc), opening_auction_start_time=datetime.datetime(2022, 5, 13, 6, 50, tzinfo=datetime.timezone.utc), closing_auction_end_time=datetime.datetime(2022, 5, 13, 15, 50, tzinfo=datetime.timezone.utc), evening_opening_auction_start_time=datetime.datetime(1970, 1, 1, 0, 0, tzinfo=datetime.timezone.utc), evening_start_time=datetime.datetime(1970, 1, 1, 0, 0, tzinfo=datetime.timezone.utc), evening_end_time=datetime.datetime(1970, 1, 1, 0, 0, tzinfo=datetime.timezone.utc), clearing_start_time=datetime.datetime(1970, 1, 1, 0, 0, tzinfo=datetime.timezone.utc), clearing_end_time=datetime.datetime(1970, 1, 1, 0, 0, tzinfo=datetime.timezone.utc), premarket_start_time=datetime.datetime(2022, 5, 13, 6, 50, tzinfo=datetime.timezone.utc), premarket_end_time=datetime.datetime(2022, 5, 13, 7, 0, tzinfo=datetime.timezone.utc)), TradingDay(date=datetime.datetime(2022, 5, 14, 0, 0, tzinfo=datetime.timezone.utc), is_trading_day=False, start_time=datetime.datetime(1970, 1, 1, 0, 0, tzinfo=datetime.timezone.utc), end_time=datetime.datetime(1970, 1, 1, 0, 0, tzinfo=datetime.timezone.utc), opening_auction_start_time=datetime.datetime(1970, 1, 1, 0, 0, tzinfo=datetime.timezone.utc), closing_auction_end_time=datetime.datetime(1970, 1, 1, 0, 0, tzinfo=datetime.timezone.utc), evening_opening_auction_start_time=datetime.datetime(1970, 1, 1, 0, 0, tzinfo=datetime.timezone.utc), evening_start_time=datetime.datetime(1970, 1, 1, 0, 0, tzinfo=datetime.timezone.utc), evening_end_time=datetime.datetime(1970, 1, 1, 0, 0, tzinfo=datetime.timezone.utc), clearing_start_time=datetime.datetime(1970, 1, 1, 0, 0, tzinfo=datetime.timezone.utc), clearing_end_time=datetime.datetime(1970, 1, 1, 0, 0, tzinfo=datetime.timezone.utc), premarket_start_time=datetime.datetime(1970, 1, 1, 0, 0, tzinfo=datetime.timezone.utc), premarket_end_time=datetime.datetime(1970, 1, 1, 0, 0, tzinfo=datetime.timezone.utc))])]"
      ]
     },
     "execution_count": 7,
     "metadata": {},
     "output_type": "execute_result"
    }
   ],
   "source": [
    "# Расписание торгов, вывод в библиотеке реализован плохо (строка хуйни)\n",
    "with Client(TOKEN) as client:\n",
    "    schedules = client.instruments.trading_schedules(\n",
    "        exchange='MOEX',\n",
    "        from_=now(),\n",
    "        to=now() + timedelta(days=5))\n",
    "schedules.exchanges"
   ]
  },
  {
   "cell_type": "code",
   "execution_count": 8,
   "id": "fd633e3c-6d5a-4e4b-8961-19ff6f3c1580",
   "metadata": {},
   "outputs": [
    {
     "data": {
      "text/plain": [
       "[]"
      ]
     },
     "execution_count": 8,
     "metadata": {},
     "output_type": "execute_result"
    }
   ],
   "source": [
    "# Лента сделок, исторические данные не выгружаются\n",
    "with Client(TOKEN) as client:\n",
    "    time_start = now() - timedelta(days=7) + timedelta(hours=15)\n",
    "    last_trades = client.market_data.get_last_trades(\n",
    "        figi='BBG006L8G4H1',\n",
    "        from_=time_start,\n",
    "        to=time_start + timedelta(hours=1),\n",
    "    )\n",
    "last_trades.trades"
   ]
  },
  {
   "cell_type": "code",
   "execution_count": null,
   "id": "a6c86899-8d77-4467-b7a8-188045650c2e",
   "metadata": {},
   "outputs": [],
   "source": []
  },
  {
   "cell_type": "code",
   "execution_count": null,
   "id": "f683eb27-a3b5-4e1b-850c-37c386951c1a",
   "metadata": {},
   "outputs": [],
   "source": []
  }
 ],
 "metadata": {
  "kernelspec": {
   "display_name": "Python 3 (ipykernel)",
   "language": "python",
   "name": "python3"
  },
  "language_info": {
   "codemirror_mode": {
    "name": "ipython",
    "version": 3
   },
   "file_extension": ".py",
   "mimetype": "text/x-python",
   "name": "python",
   "nbconvert_exporter": "python",
   "pygments_lexer": "ipython3",
   "version": "3.10.4"
  }
 },
 "nbformat": 4,
 "nbformat_minor": 5
}
